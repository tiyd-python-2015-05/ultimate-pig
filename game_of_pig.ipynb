{
 "cells": [
  {
   "cell_type": "code",
   "execution_count": 1,
   "metadata": {
    "collapsed": true
   },
   "outputs": [],
   "source": [
    "import random"
   ]
  },
  {
   "cell_type": "code",
   "execution_count": 39,
   "metadata": {
    "collapsed": true
   },
   "outputs": [],
   "source": [
    "class Player:\n",
    "    def __init__(self, score):\n",
    "        self.score = score\n",
    "    \n",
    "    def decides(self):\n",
    "        while game.roll() != :\n",
    "            value = game.roll()\n",
    "            if game.running_tally(value) < 100:\n",
    "                \n",
    "            else:\n",
    "                "
   ]
  },
  {
   "cell_type": "code",
   "execution_count": 4,
   "metadata": {
    "collapsed": false
   },
   "outputs": [],
   "source": [
    "class Game:\n",
    "    def __init__(self, tally_score=0):\n",
    "        self.tally_score = tally_score\n",
    "        \n",
    "    def roll(self):\n",
    "        return random.randint(1,6)\n",
    "    \n",
    "    def running_tally(self, value):\n",
    "        if value > 1:\n",
    "            self.tally_score + value\n",
    "        else:\n",
    "            self.tally_score = 0\n",
    "        \n",
    "        return self.tally_score\n",
    "            "
   ]
  },
  {
   "cell_type": "code",
   "execution_count": null,
   "metadata": {
    "collapsed": true
   },
   "outputs": [],
   "source": []
  }
 ],
 "metadata": {
  "kernelspec": {
   "display_name": "Python 3",
   "language": "python",
   "name": "python3"
  },
  "language_info": {
   "codemirror_mode": {
    "name": "ipython",
    "version": 3
   },
   "file_extension": ".py",
   "mimetype": "text/x-python",
   "name": "python",
   "nbconvert_exporter": "python",
   "pygments_lexer": "ipython3",
   "version": "3.4.3"
  }
 },
 "nbformat": 4,
 "nbformat_minor": 0
}
