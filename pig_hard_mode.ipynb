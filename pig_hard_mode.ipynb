{
 "cells": [
  {
   "cell_type": "markdown",
   "metadata": {},
   "source": [
    "#Game"
   ]
  },
  {
   "cell_type": "code",
   "execution_count": 1,
   "metadata": {
    "collapsed": false
   },
   "outputs": [],
   "source": [
    "import random\n",
    "import matplotlib.pyplot as plt\n",
    "import statistics as st"
   ]
  },
  {
   "cell_type": "code",
   "execution_count": 2,
   "metadata": {
    "collapsed": true
   },
   "outputs": [],
   "source": [
    "class Game:\n",
    "    def __init__(self, player1, player2):\n",
    "        self.solt_player = player1\n",
    "        self.comp_player = player2\n",
    "        self.the_winner = self.solt_player\n",
    "        self.winner = False\n",
    "        self.current_player = random.choice([self.comp_player, self.solt_player])\n",
    "        \n",
    "    def start(self):\n",
    "        while not self.winner:\n",
    "            self.current_player.turn(self.solt_player.record_score())\n",
    "            self.check_winner(self.current_player)\n",
    "            self.switch_players(self.current_player)\n",
    "        return self.the_winner\n",
    "    \n",
    "    def check_winner(self, cur_pl):\n",
    "        if cur_pl.current_score < 100:\n",
    "            self.winner = False\n",
    "        else:\n",
    "            self.winner = True\n",
    "            self.the_winner = cur_pl\n",
    "            \n",
    "    def switch_players(self, cur_pl):\n",
    "        if cur_pl == self.solt_player:\n",
    "            self.current_player = self.comp_player\n",
    "        else:\n",
    "            self.current_player = self.solt_player\n",
    "            \n",
    "    def reset(self):\n",
    "        self.solt_player.reset()\n",
    "        self.comp_player.reset()\n"
   ]
  },
  {
   "cell_type": "markdown",
   "metadata": {},
   "source": [
    "#Dice"
   ]
  },
  {
   "cell_type": "code",
   "execution_count": 3,
   "metadata": {
    "collapsed": true
   },
   "outputs": [],
   "source": [
    "class Die:\n",
    "    def roll(self):\n",
    "        return random.randint(1,6)"
   ]
  },
  {
   "cell_type": "markdown",
   "metadata": {},
   "source": [
    "#Base Player Class"
   ]
  },
  {
   "cell_type": "code",
   "execution_count": 4,
   "metadata": {
    "collapsed": true
   },
   "outputs": [],
   "source": [
    "class Base_player:\n",
    "    def __init__(self):\n",
    "        self.current_score = 0\n",
    "        self.wins = 0\n",
    "        self.die = Die()\n",
    "        \n",
    "    def reset(self):\n",
    "        self.current_score = 0\n",
    "        \n",
    "    def turn(self, num_of_turns=1):\n",
    "        turn_score = 0\n",
    "        roll = self.die.roll()\n",
    "        if roll == 1:\n",
    "            turn_score = 0\n",
    "        else:\n",
    "            turn_score += roll\n",
    "        self.current_score += turn_score\n",
    "        \n",
    "    def record_score(self):\n",
    "        return self.current_score"
   ]
  },
  {
   "cell_type": "markdown",
   "metadata": {},
   "source": [
    "#Solitaire Player"
   ]
  },
  {
   "cell_type": "code",
   "execution_count": 5,
   "metadata": {
    "collapsed": false
   },
   "outputs": [],
   "source": [
    "class Roll_player(Base_player):\n",
    "    def turn(self, opp_score):\n",
    "        turn_score = 0\n",
    "        while turn_score < 10:\n",
    "            roll = self.die.roll()\n",
    "            if roll == 1:\n",
    "                turn_score = 0\n",
    "                break\n",
    "            else:\n",
    "                turn_score += roll\n",
    "        self.current_score += turn_score"
   ]
  },
  {
   "cell_type": "markdown",
   "metadata": {},
   "source": [
    "#Competitive Player"
   ]
  },
  {
   "cell_type": "code",
   "execution_count": 6,
   "metadata": {
    "collapsed": false
   },
   "outputs": [],
   "source": [
    "class Comp_player(Base_player):\n",
    "    def turn(self, opp_score=0):\n",
    "        self.opp_score = opp_score\n",
    "        turn_score = 0\n",
    "        if self.current_score >= 90:\n",
    "            i = 3\n",
    "            while i > 0:\n",
    "                roll = self.die.roll()\n",
    "                if roll == 1:\n",
    "                    turn_score = 0\n",
    "                else:\n",
    "                    turn_score += roll\n",
    "                if self.current_score + turn_score > 100:\n",
    "                    break\n",
    "                i -= 1\n",
    "                \n",
    "        elif self.current_score > 75 and self.opp_score > 95:\n",
    "            while turn_score < 25:\n",
    "                roll = self.die.roll()\n",
    "                if roll == 1:\n",
    "                    turn_score = 0\n",
    "                    break\n",
    "                else:\n",
    "                    turn_score += roll\n",
    "                if self.current_score + turn_score > 100:\n",
    "                    break\n",
    "        else:\n",
    "            while turn_score < 20:\n",
    "                roll = self.die.roll()\n",
    "                if roll == 1:\n",
    "                    turn_score = 0\n",
    "                    break\n",
    "                else:\n",
    "                    turn_score += roll\n",
    "        self.current_score += turn_score"
   ]
  },
  {
   "cell_type": "markdown",
   "metadata": {},
   "source": [
    "#Simulation"
   ]
  },
  {
   "cell_type": "code",
   "execution_count": 8,
   "metadata": {
    "collapsed": true
   },
   "outputs": [],
   "source": [
    "class Simulation:\n",
    "    def __init__(self):\n",
    "        self.p1 = Roll_player()\n",
    "        self.p2 = Comp_player()\n",
    "        self.p1_wins = 0\n",
    "        self.p2_wins = 0\n",
    "        \n",
    "    def run_simulation(self, n):\n",
    "        num_rounds = n\n",
    "        while num_rounds > 0:\n",
    "            game1 = Game(p1, p2)\n",
    "            winner = game1.start()\n",
    "            if type(winner) == Roll_player:\n",
    "                self.p1_wins += 1\n",
    "            else:\n",
    "                self.p2_wins += 1\n",
    "            game1.reset()\n",
    "            num_rounds -= 1\n",
    "        results = (self.p1_wins, self.p2_wins)\n",
    "        return results"
   ]
  },
  {
   "cell_type": "code",
   "execution_count": 16,
   "metadata": {
    "collapsed": false
   },
   "outputs": [],
   "source": [
    "def get_data(num_sims):\n",
    "    sims = num_sims\n",
    "    results_list = []\n",
    "    while sims > 0:\n",
    "        sim = Simulation()\n",
    "        results_list.append(sim.run_simulation(100))\n",
    "        sims -= 1\n",
    "    return results_list\n",
    "\n",
    "results = get_data(500)"
   ]
  },
  {
   "cell_type": "code",
   "execution_count": 28,
   "metadata": {
    "collapsed": false
   },
   "outputs": [],
   "source": [
    "total_wins = (sum([pair[0] for pair in results]), sum([pair[1] for pair in results]))\n",
    "comp_win_ratios = [pair[1]/100 for pair in results]\n",
    "solt_win_ratios = [pair[0]/100 for pair in results]"
   ]
  },
  {
   "cell_type": "code",
   "execution_count": 18,
   "metadata": {
    "collapsed": true
   },
   "outputs": [],
   "source": [
    "%matplotlib inline"
   ]
  },
  {
   "cell_type": "code",
   "execution_count": 22,
   "metadata": {
    "collapsed": false
   },
   "outputs": [
    {
     "data": {
      "image/png": "[encoded data removed]",
      "text/plain": [
       "<matplotlib.figure.Figure at 0x1098f7ac8>"
      ]
     },
     "metadata": {},
     "output_type": "display_data"
    }
   ],
   "source": [
    "plt.hist(comp_win_ratios, bins=25)\n",
    "plt.xlabel(\"Ratios\")\n",
    "plt.ylabel(\"Trial\")\n",
    "plt.title(\"Competitive Player Win Ratios, 500 Sims\")\n",
    "plt.style.use('bmh')\n",
    "plt.show()"
   ]
  },
  {
   "cell_type": "code",
   "execution_count": 23,
   "metadata": {
    "collapsed": false
   },
   "outputs": [
    {
     "data": {
      "image/png": "[encoded data removed]",
      "text/plain": [
       "<matplotlib.figure.Figure at 0x109b1e550>"
      ]
     },
     "metadata": {},
     "output_type": "display_data"
    }
   ],
   "source": [
    "plt.hist(solt_win_ratios, bins=25)\n",
    "plt.xlabel(\"Ratios\")\n",
    "plt.ylabel(\"Trial\")\n",
    "plt.title(\"Solitaire Win Ratios, 500 Sims\")\n",
    "plt.style.use('bmh')\n",
    "plt.show()"
   ]
  },
  {
   "cell_type": "code",
   "execution_count": 27,
   "metadata": {
    "collapsed": false
   },
   "outputs": [
    {
     "data": {
      "image/png": "[encoded data removed]",
      "text/plain": [
       "<matplotlib.figure.Figure at 0x109cbbd30>"
      ]
     },
     "metadata": {},
     "output_type": "display_data"
    }
   ],
   "source": [
    "pl1 = 10 * round((total_wins[0]/50000),2)\n",
    "pl2 = 10 * round((total_wins[1]/50000),2)\n",
    "\n",
    "# The slices will be ordered and plotted counter-clockwise.\n",
    "labels = 'Solitaire', 'Competitive'\n",
    "sizes = [pl1, pl2]\n",
    "colors = ['lightcoral', 'lightskyblue']\n",
    "\n",
    "plt.pie(sizes, labels=labels, colors=colors,\n",
    "        autopct='%1.1f%%', shadow=True, startangle=90)\n",
    "# Set aspect ratio to be equal so that pie is drawn as a circle.\n",
    "plt.axis('equal')\n",
    "plt.title(\"Win Percentage\")\n",
    "plt.style.use('bmh')\n",
    "\n",
    "plt.show()"
   ]
  },
  {
   "cell_type": "code",
   "execution_count": null,
   "metadata": {
    "collapsed": true
   },
   "outputs": [],
   "source": []
  }
 ],
 "metadata": {
  "kernelspec": {
   "display_name": "Python 3",
   "language": "python",
   "name": "python3"
  },
  "language_info": {
   "codemirror_mode": {
    "name": "ipython",
    "version": 3
   },
   "file_extension": ".py",
   "mimetype": "text/x-python",
   "name": "python",
   "nbconvert_exporter": "python",
   "pygments_lexer": "ipython3",
   "version": "3.4.3"
  }
 },
 "nbformat": 4,
 "nbformat_minor": 0
}
