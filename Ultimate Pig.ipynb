{
 "cells": [
  {
   "cell_type": "code",
   "execution_count": 79,
   "metadata": {
    "collapsed": true
   },
   "outputs": [],
   "source": [
    "import random\n",
    "import statistics as st\n",
    "import math"
   ]
  },
  {
   "cell_type": "markdown",
   "metadata": {},
   "source": [
    "# Optimal Player Prediction\n",
    "The optimal player will only make decisions that have a positive expected value\n",
    "In the game of pig, for one single roll, we have 6 different possibilities\n",
    "5 out of those 6 possibilities have a definite outcome, and these are in vals\n",
    "Expected Value = sum of outcomes times their probability\n",
    "               = score/6 + 1/6 + 2/6 + 3/6 + 4/6 + 5/6 + 6/6\n",
    "It becomes clear that this expression is 0 when sore is equal to sum(vals) = 20\n",
    "So the optimal player should roll again when his/her score is below 20\n",
    "                  and should quit when the score is above 20\n",
    "The behavior at 20 shouldn't matter"
   ]
  },
  {
   "cell_type": "code",
   "execution_count": 80,
   "metadata": {
    "collapsed": false,
    "scrolled": true
   },
   "outputs": [
    {
     "name": "stdout",
     "output_type": "stream",
     "text": [
      "[2, 3, 4, 5, 6]\n",
      "4.0\n",
      "20\n"
     ]
    }
   ],
   "source": [
    "vals = [i for i in range(2,7)]\n",
    "print(vals)\n",
    "print(sum(vals)/len(vals))\n",
    "print(sum(vals))"
   ]
  },
  {
   "cell_type": "markdown",
   "metadata": {},
   "source": [
    "#Building the Game Strucutures\n",
    "First we need a Die() function which rolls the dice\n",
    "Next, we have classes for the turn, the game, and the player\n",
    "The player classes are extended to represent different strategies\n",
    "The default strategy only rolls once\n",
    "The two next strategies take the optimal action, with the first one always rolling on 20\n",
    "and the 2nd one always quitting on 20"
   ]
  },
  {
   "cell_type": "code",
   "execution_count": 81,
   "metadata": {
    "collapsed": true
   },
   "outputs": [],
   "source": [
    "def Die(): return random.randint(1,6)"
   ]
  },
  {
   "cell_type": "code",
   "execution_count": 82,
   "metadata": {
    "collapsed": false
   },
   "outputs": [
    {
     "data": {
      "text/plain": [
       "[3, 2, 3, 5, 3, 5, 2, 4, 6, 4]"
      ]
     },
     "execution_count": 82,
     "metadata": {},
     "output_type": "execute_result"
    }
   ],
   "source": [
    "[Die() for i in range(10)] # looks like some good random dice rolls"
   ]
  },
  {
   "cell_type": "code",
   "execution_count": 83,
   "metadata": {
    "collapsed": false
   },
   "outputs": [],
   "source": [
    "class Game:\n",
    "    def __init__(self, player1, player2=None):\n",
    "        self.p1 = player1\n",
    "        self.p2 = player2\n",
    "        if player2 is not None:\n",
    "            self.score_limit = 100\n",
    "            self.p = 1\n",
    "        else:\n",
    "            self.turn_limit = 7\n",
    "    \n",
    "    def restart(self):\n",
    "        self.turns = 0\n",
    "        self.p1.score = 0\n",
    "        if self.p2 is not None:\n",
    "            self.p2.score = 0\n",
    "            \n",
    "    def start(self):\n",
    "        '''This plays a full game'''\n",
    "        self.restart()\n",
    "        player = self.cp()\n",
    "        while self.not_finished():\n",
    "            turn = Turn(player)\n",
    "            turn.go()\n",
    "            player.score += turn.score\n",
    "            self.turns += 1\n",
    "            if self.p2 is not None:\n",
    "                self.sp()\n",
    "                player = self.cp()\n",
    "        if self.p2 is None:\n",
    "            return player.score\n",
    "        else:\n",
    "            return (self.p1.score, self.p2.score)\n",
    "    \n",
    "    def not_finished(self):\n",
    "        if self.p2 is not None:\n",
    "            return max(self.p1.score, self.p2.score) < self.score_limit\n",
    "        else:\n",
    "            return self.turns < self.turn_limit\n",
    "        \n",
    "    def cp(self):\n",
    "        '''Returns current player'''\n",
    "        if self.p2 is None:\n",
    "            return self.p1\n",
    "        elif self.p == 1:\n",
    "            return self.p1\n",
    "        else:\n",
    "            return self.p2\n",
    "    \n",
    "    def sp(self):\n",
    "        '''Switches current player'''\n",
    "        if self.p == 1:\n",
    "            self.p = 2\n",
    "        else:\n",
    "            self.p = 1\n",
    "                \n",
    "class Turn:\n",
    "    def __init__(self, player):\n",
    "        self.player = player\n",
    "        self.score = 0\n",
    "    \n",
    "    def go(self):\n",
    "        '''This carries out a full turn'''\n",
    "        self.roll = 0\n",
    "        self.score = 0\n",
    "        while True:\n",
    "            self.roll += 1\n",
    "            do_roll = self.player.will_roll(self.roll, self.score)\n",
    "            if not do_roll:\n",
    "                break\n",
    "            number = Die()\n",
    "            if number == 1:\n",
    "                self.score = 0\n",
    "                break\n",
    "            self.score += number\n",
    "        #return score\n",
    "    \n",
    "class Player:\n",
    "    def __init__(self, name):\n",
    "        self.name = name\n",
    "        self.score = 0\n",
    "        self.hist = []\n",
    "    \n",
    "    def __str__(self):\n",
    "        return self.name\n",
    "        \n",
    "    def will_roll(self, roll, score, other_players_score=0):\n",
    "        return roll <= 1\n",
    "        \n",
    "    def run_hist(self, n):\n",
    "        self.hist = [0] * n\n",
    "        game = Game(self)\n",
    "        for i in range(n):\n",
    "            self.hist[i] = game.start()\n",
    "            \n",
    "    def hist_summary(self):\n",
    "        ret_st = \"\"\n",
    "        n = len(self.hist)\n",
    "        the_std = st.stdev(self.hist)\n",
    "        ret_st += self.name.ljust(10)+\" gets a mean of: \"+str(round(sum(self.hist)/n,3))\n",
    "        ret_st += \" std: \"+str(round(the_std,2))\n",
    "        ret_st += \" mean error: \"+ str(round(the_std/math.sqrt(n),4))\n",
    "        return ret_st\n",
    "\n",
    "class ScoreBasedPlayer(Player):\n",
    "    def will_roll(self, roll, score, other_players_score=0):\n",
    "        return score <= 20\n",
    "\n",
    "class SBP_conservative(Player):\n",
    "    def will_roll(self, roll, score, other_players_score=0):\n",
    "        return score < 20\n",
    "    \n",
    "class RandomPlayer(Player): # random chance of quitting\n",
    "    def will_roll(self, roll, score, other_players_score=0):\n",
    "        return Die() > 2\n",
    "    \n",
    "class TurnBasedPlayer(Player): # quits after a certain turn\n",
    "    def will_roll(self, roll, score, other_players_score=0):\n",
    "        return roll <= 3\n",
    "            "
   ]
  },
  {
   "cell_type": "markdown",
   "metadata": {},
   "source": [
    "#Running Statistics\n",
    "Tests are run for the different strategies. We use the history logging methods of the user class and then return some statics and draw conclusions from them."
   ]
  },
  {
   "cell_type": "code",
   "execution_count": 84,
   "metadata": {
    "collapsed": false
   },
   "outputs": [],
   "source": [
    "all_players = [] # Create sample players of all types\n",
    "all_players.append( Player(\"Johnny\") )\n",
    "all_players.append( ScoreBasedPlayer(\"Milton\") ) # named after economists\n",
    "all_players.append( SBP_conservative(\"Adam Smith\") )\n",
    "all_players.append( TurnBasedPlayer(\"Crazy Ivan\"))\n",
    "all_players.append( RandomPlayer(\"Karl M.\"))"
   ]
  },
  {
   "cell_type": "code",
   "execution_count": 85,
   "metadata": {
    "collapsed": true
   },
   "outputs": [],
   "source": [
    "Nval = 10000"
   ]
  },
  {
   "cell_type": "code",
   "execution_count": 86,
   "metadata": {
    "collapsed": false
   },
   "outputs": [
    {
     "name": "stdout",
     "output_type": "stream",
     "text": [
      "Johnny - running history\n",
      "Milton - running history\n",
      "Adam Smith - running history\n",
      "Crazy Ivan - running history\n",
      "Karl M. - running history\n"
     ]
    }
   ],
   "source": [
    "for player in all_players:\n",
    "    print(str(player)+\" - running history\")\n",
    "    player.run_hist(Nval)"
   ]
  },
  {
   "cell_type": "code",
   "execution_count": 87,
   "metadata": {
    "collapsed": false
   },
   "outputs": [
    {
     "name": "stdout",
     "output_type": "stream",
     "text": [
      "Johnny     gets a mean of: 23.334 std: 5.23 mean error: 0.0523\n",
      "Milton     gets a mean of: 56.726 std: 28.55 mean error: 0.2855\n",
      "Adam Smith gets a mean of: 57.154 std: 28.0 mean error: 0.28\n",
      "Crazy Ivan gets a mean of: 48.579 std: 16.33 mean error: 0.1633\n",
      "Karl M.    gets a mean of: 26.51 std: 17.16 mean error: 0.1716\n"
     ]
    }
   ],
   "source": [
    "for player in all_players:\n",
    "    print(player.hist_summary())"
   ]
  },
  {
   "cell_type": "markdown",
   "metadata": {},
   "source": [
    "Note that Milton and Adam's scores are so close that the error in the mean is larger than the difference between them. The error in the mean is computed from the standard deviation divided by the square root of the number of trials, and it represents the statistical measurement error on the value we report of the average score. From these numbers, we conclude that our experiment was not capable of measuring a difference in performance between Milton and Adam. That supports the original hypothesis that they would perform equally well."
   ]
  },
  {
   "cell_type": "markdown",
   "metadata": {},
   "source": [
    "#Distribution Plots\n",
    "These are mostly histogram graphs that show the distribution of scores.\n",
    "This is based on a 7-round game played by a single player."
   ]
  },
  {
   "cell_type": "code",
   "execution_count": 88,
   "metadata": {
    "collapsed": true
   },
   "outputs": [],
   "source": [
    "import matplotlib.pyplot as plt\n",
    "%matplotlib inline"
   ]
  },
  {
   "cell_type": "code",
   "execution_count": 89,
   "metadata": {
    "collapsed": false
   },
   "outputs": [
    {
     "name": "stdout",
     "output_type": "stream",
     "text": [
      "Number of bins: 38\n"
     ]
    },
    {
     "data": {
      "image/png": "[encoded data removed]",
      "text/plain": [
       "<matplotlib.figure.Figure at 0x11157aa58>"
      ]
     },
     "metadata": {},
     "output_type": "display_data"
    }
   ],
   "source": [
    "scale = max(all_players[0].hist)-min(all_players[0].hist)-1 # number of integers that the range spans, \n",
    "                                                            # -1 to be pythonic\n",
    "print(\"Number of bins: \"+str(scale))\n",
    "max_y = int(Nval/scale*4) # set the window by the average histogram value times a fill factor\n",
    "\n",
    "plt.title(\"Default Player Behavior\")\n",
    "plt.xlabel(\"Score\")\n",
    "plt.ylabel(\"Number\")\n",
    "plt.axis((0,50,0,max_y))\n",
    "plt.hist(all_players[0].hist, bins=scale)\n",
    "\n",
    "plt.show()"
   ]
  },
  {
   "cell_type": "markdown",
   "metadata": {},
   "source": [
    "This shows the distribution of scores for the default player\n",
    "It is mostly normally distributed, but the value of 0 for rolls of 1 leaves a bit of a longer tail on the left"
   ]
  },
  {
   "cell_type": "code",
   "execution_count": 90,
   "metadata": {
    "collapsed": false
   },
   "outputs": [
    {
     "name": "stdout",
     "output_type": "stream",
     "text": [
      "161\n",
      "153\n"
     ]
    },
    {
     "data": {
      "image/png": "[encoded data removed]",
      "text/plain": [
       "<matplotlib.figure.Figure at 0x11194bf28>"
      ]
     },
     "metadata": {},
     "output_type": "display_data"
    }
   ],
   "source": [
    "scale1 = max(all_players[1].hist)-min(all_players[1].hist)-1 # same calculation for number of bins\n",
    "print(scale1)\n",
    "scale2 = max(all_players[2].hist)-min(all_players[2].hist)-1\n",
    "print(scale2)\n",
    "max_y = int(Nval/scale*2.2)\n",
    "\n",
    "ax2 = plt.subplot(212)\n",
    "plt.title(\"Expected Value Optimization, hits on 20\")\n",
    "plt.xlabel(\"Score\")\n",
    "plt.ylabel(\"Number\")\n",
    "plt.hist(all_players[1].hist, bins=scale1)\n",
    "plt.axis((1,200,0,max_y))\n",
    "#plt.yscale(\"log\")\n",
    "\n",
    "ax1 = plt.subplot(211, sharex=ax2)\n",
    "plt.title(\"Default Player Behavior\")\n",
    "plt.ylabel(\"Number\")\n",
    "plt.hist(all_players[2].hist, bins=scale2)\n",
    "plt.axis((0,200,0,max_y))\n",
    "plt.setp( ax1.get_xticklabels(), visible=False)\n",
    "\n",
    "plt.show()"
   ]
  },
  {
   "cell_type": "markdown",
   "metadata": {},
   "source": [
    "Now, this shows some more interesting behavior. Compared to the default player, these players tend to go deep into the betting round and quite often lose their entire pot. This behavior causes the distribution to be extremely multi-nodal. The peaks represent different numbers of \"1\" rolled. The highest score peak represents no loses of the pot, while the first and 2nd nodes represent 6 and 5 rolls of \"1\" respectively."
   ]
  },
  {
   "cell_type": "code",
   "execution_count": 91,
   "metadata": {
    "collapsed": false
   },
   "outputs": [
    {
     "name": "stdout",
     "output_type": "stream",
     "text": [
      "Number of bins: 97\n",
      "Crazy Ivan\n"
     ]
    },
    {
     "data": {
      "image/png": "[encoded data removed]",
      "text/plain": [
       "<matplotlib.figure.Figure at 0x11192b128>"
      ]
     },
     "metadata": {},
     "output_type": "display_data"
    }
   ],
   "source": [
    "i = 3\n",
    "scale = max(all_players[i].hist)-min(all_players[i].hist)-1 # number of integers that the range spans, \n",
    "                                                            # -1 to be pythonic\n",
    "print(\"Number of bins: \"+str(scale))\n",
    "print(all_players[i])\n",
    "max_y = int(Nval/scale*4) # set the window by the average histogram value times a fill factor\n",
    "\n",
    "plt.title(\"Default Player Behavior\")\n",
    "plt.xlabel(\"Score\")\n",
    "plt.ylabel(\"Number\")\n",
    "plt.axis((0,100,0,max_y))\n",
    "plt.hist(all_players[i].hist, bins=scale)\n",
    "\n",
    "plt.show()"
   ]
  },
  {
   "cell_type": "markdown",
   "metadata": {},
   "source": [
    "A random decision is made whether to keep going or now here. This makes the distribution surprisingly symmetrical. This might be due to the fact that it's hard to make its outcome zero, since sometimes it even quits after the first turn. Also, the user fails to consolidate very large gains by continuing to bet at times when he/she shouldn't. These factors somewhat help to explain the shape of the distribution."
   ]
  },
  {
   "cell_type": "code",
   "execution_count": 92,
   "metadata": {
    "collapsed": false
   },
   "outputs": [
    {
     "name": "stdout",
     "output_type": "stream",
     "text": [
      "Number of bins: 150\n",
      "Karl M.\n"
     ]
    },
    {
     "data": {
      "image/png": "[encoded data removed]",
      "text/plain": [
       "<matplotlib.figure.Figure at 0x11191fc18>"
      ]
     },
     "metadata": {},
     "output_type": "display_data"
    }
   ],
   "source": [
    "i = 4\n",
    "scale = max(all_players[i].hist)-min(all_players[i].hist)-1 # number of integers that the range spans, \n",
    "                                                            # -1 to be pythonic\n",
    "print(\"Number of bins: \"+str(scale))\n",
    "print(all_players[i])\n",
    "max_y = int(Nval/scale*5) # set the window by the average histogram value times a fill factor\n",
    "\n",
    "plt.title(\"Default Player Behavior\")\n",
    "plt.xlabel(\"Score\")\n",
    "plt.ylabel(\"Number\")\n",
    "plt.axis((0,150,0,max_y))\n",
    "plt.hist(all_players[i].hist, bins=scale)\n",
    "\n",
    "plt.show()"
   ]
  },
  {
   "cell_type": "markdown",
   "metadata": {},
   "source": [
    "In this strategy, a set number of rolls are made every time (unless 1s are rolled before then). Since it doesn't depend on the score of the player, the strategy is named after the founder of communism. This distribution is more concentrated around the lower total scores with only a slight pick up at 0 itself. This looks somewhat Poisson, which might be the simple case of just adding dice rolls."
   ]
  },
  {
   "cell_type": "markdown",
   "metadata": {},
   "source": [
    "#Multi-player Games\n",
    "Statics for 2-player games"
   ]
  },
  {
   "cell_type": "code",
   "execution_count": 93,
   "metadata": {
    "collapsed": true
   },
   "outputs": [],
   "source": [
    "milton=all_players[1]\n",
    "adam = all_players[2]"
   ]
  },
  {
   "cell_type": "code",
   "execution_count": 94,
   "metadata": {
    "collapsed": true
   },
   "outputs": [],
   "source": [
    "game = Game(milton, adam)"
   ]
  },
  {
   "cell_type": "code",
   "execution_count": 95,
   "metadata": {
    "collapsed": false
   },
   "outputs": [
    {
     "name": "stdout",
     "output_type": "stream",
     "text": [
      "[(116, 90), (47, 109), (22, 107), (110, 42), (88, 106), (92, 108), (118, 84), (86, 110), (21, 109), (118, 20)]\n"
     ]
    }
   ],
   "source": [
    "print([game.start() for i in range(10)])"
   ]
  },
  {
   "cell_type": "markdown",
   "metadata": {},
   "source": [
    "Outcomes look sufficiently random, and also consistent with the rules"
   ]
  },
  {
   "cell_type": "code",
   "execution_count": 112,
   "metadata": {
    "collapsed": true
   },
   "outputs": [],
   "source": [
    "milton2 = ScoreBasedPlayer(\"Milton2\")\n",
    "game = Game(milton, milton2)"
   ]
  },
  {
   "cell_type": "code",
   "execution_count": 118,
   "metadata": {
    "collapsed": false
   },
   "outputs": [
    {
     "name": "stdout",
     "output_type": "stream",
     "text": [
      "First player wins 49.15 % of the time\n"
     ]
    }
   ],
   "source": [
    "Nval = 10000\n",
    "wins = 0\n",
    "for i in range(Nval):\n",
    "    p1s, p2s = game.start()\n",
    "    if p1s > p2s:\n",
    "        wins += 1\n",
    "print(\"First player wins \"+str(wins*100/(Nval))+\" % of the time\")"
   ]
  },
  {
   "cell_type": "markdown",
   "metadata": {},
   "source": [
    "This shows the first-player advantage, but it confusingly says that the first player is at a disadvantage"
   ]
  },
  {
   "cell_type": "code",
   "execution_count": 96,
   "metadata": {
    "collapsed": true
   },
   "outputs": [],
   "source": [
    "Nval = 1000"
   ]
  },
  {
   "cell_type": "code",
   "execution_count": 99,
   "metadata": {
    "collapsed": false
   },
   "outputs": [
    {
     "name": "stdout",
     "output_type": "stream",
     "text": [
      "[[0, 9, 15, 3, 374], [986, 0, 461, 602, 916], [999, 522, 0, 641, 945], [997, 412, 350, 0, 910], [603, 78, 55, 81, 0]]\n"
     ]
    }
   ],
   "source": [
    "n = len(all_players)\n",
    "win_mat = [[0 for i in range(n)] for i in range(n)]\n",
    "for i in range(n):\n",
    "    for j in range(n):\n",
    "        game = Game(all_players[i], all_players[j])\n",
    "        if i != j:\n",
    "            for k in range(Nval):\n",
    "                p1s, p2s = game.start()\n",
    "                if p1s > p2s:\n",
    "                    win_mat[i][j] += 1\n",
    "print(win_mat)"
   ]
  },
  {
   "cell_type": "code",
   "execution_count": 102,
   "metadata": {
    "collapsed": false
   },
   "outputs": [
    {
     "name": "stdout",
     "output_type": "stream",
     "text": [
      "                   Johnny         Milton     Adam Smith     Crazy Ivan        Karl M.\n",
      "    Johnny            0.0          0.009          0.015          0.003          0.374\n",
      "    Milton          0.986            0.0          0.461          0.602          0.916\n",
      "Adam Smith          0.999          0.522            0.0          0.641          0.945\n",
      "Crazy Ivan          0.997          0.412           0.35            0.0           0.91\n",
      "   Karl M.          0.603          0.078          0.055          0.081            0.0\n"
     ]
    }
   ],
   "source": [
    "st = \"          \"\n",
    "for j in range(n):\n",
    "    st += all_players[j].name.rjust(15)\n",
    "print(st)\n",
    "for i in range(n):\n",
    "    st = all_players[i].name.rjust(10)\n",
    "    for j in range(n):\n",
    "        st += str(round(win_mat[i][j]/Nval,4)).rjust(15)\n",
    "    print(st)"
   ]
  },
  {
   "cell_type": "code",
   "execution_count": null,
   "metadata": {
    "collapsed": true
   },
   "outputs": [],
   "source": []
  }
 ],
 "metadata": {
  "kernelspec": {
   "display_name": "Python 3",
   "language": "python",
   "name": "python3"
  },
  "language_info": {
   "codemirror_mode": {
    "name": "ipython",
    "version": 3
   },
   "file_extension": ".py",
   "mimetype": "text/x-python",
   "name": "python",
   "nbconvert_exporter": "python",
   "pygments_lexer": "ipython3",
   "version": "3.4.3"
  }
 },
 "nbformat": 4,
 "nbformat_minor": 0
}
